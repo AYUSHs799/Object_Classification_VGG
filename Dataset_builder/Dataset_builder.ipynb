{
 "cells": [
  {
   "attachments": {},
   "cell_type": "markdown",
   "metadata": {},
   "source": [
    "## Convert raw images to dataset \n",
    "\n",
    "This file will do the following \n",
    "* Copy the Image from the image_Downloader folder to the dataset_builder folder.\n",
    "* Proccess the images to a size of 200x200 then create a label for them.\n",
    "* Convert the images to a numpy array and Save it to a file."
   ]
  },
  {
   "cell_type": "code",
   "execution_count": 9,
   "metadata": {},
   "outputs": [],
   "source": [
    "import os\n",
    "import numpy as np\n",
    "import shutil\n",
    "# from keras.preprocessing.image import load_img\n",
    "from keras.utils import load_img\n",
    "from keras.utils import img_to_array"
   ]
  },
  {
   "attachments": {},
   "cell_type": "markdown",
   "metadata": {},
   "source": [
    "### Copying the Image from the image_Downloader folder to the dataset_builder folder."
   ]
  },
  {
   "cell_type": "code",
   "execution_count": 10,
   "metadata": {},
   "outputs": [
    {
     "data": {
      "text/plain": [
       "'./raw_Dataset/'"
      ]
     },
     "execution_count": 10,
     "metadata": {},
     "output_type": "execute_result"
    }
   ],
   "source": [
    "# Copying files from Image_Downloader to Dataset_builder\n",
    "\n",
    "# Dataset folder do not exist then create it.\n",
    "if not os.path.exists('./raw_Dataset'):\n",
    "    os.mkdir('./raw_Dataset')\n",
    "\n",
    "# Copying files from Image_Downloader to Dataset_builder\n",
    "shutil.copytree('../Image_Downloader/anteater_images/', './raw_Dataset/',dirs_exist_ok=True)\n",
    "shutil.copytree('../Image_Downloader/capibara_images/', './raw_Dataset/',dirs_exist_ok=True)"
   ]
  },
  {
   "attachments": {},
   "cell_type": "markdown",
   "metadata": {},
   "source": [
    "###  Proccess the images to a size of 200x200 then create a label for them."
   ]
  },
  {
   "cell_type": "code",
   "execution_count": 12,
   "metadata": {},
   "outputs": [
    {
     "name": "stdout",
     "output_type": "stream",
     "text": [
      "(266, 200, 200, 3) (266,)\n"
     ]
    }
   ],
   "source": [
    "# define location of dataset\n",
    "folder = './raw_Dataset/'\n",
    "\n",
    "# Making list of images and labels\n",
    "photos, labels = list(), list()\n",
    "\n",
    "# enumerate files in the directory\n",
    "for file in os.listdir(folder):\n",
    "\n",
    "    # determine class\n",
    "    output = 0\n",
    "    if file.startswith('anteater'):\n",
    "        output = 1\n",
    "\n",
    "    # load image\n",
    "    photo = load_img(folder + file, target_size=(200, 200))\n",
    "\n",
    "    # converting image to numpy array\n",
    "    photo = img_to_array(photo)\n",
    "\n",
    "    # Stroring images and labels\n",
    "    photos.append(photo)\n",
    "    labels.append(output)\n",
    "\n",
    "# convert to a numpy arrays\n",
    "photos = np.asarray(photos)\n",
    "labels = np.asarray(labels)\n",
    "\n",
    "print(photos.shape, labels.shape)\n"
   ]
  },
  {
   "attachments": {},
   "cell_type": "markdown",
   "metadata": {},
   "source": [
    "### Convert the images to a numpy array and Save it to a file."
   ]
  },
  {
   "cell_type": "code",
   "execution_count": null,
   "metadata": {},
   "outputs": [],
   "source": [
    "# save the reshaped photos in Processed_Dataset folder\n",
    "if not os.path.exists('./Processed_Dataset'):\n",
    "    os.mkdir('./Processed_Dataset')\n",
    "\n",
    "np.save('./Processed_Dataset/Anteaters_vs_Capibara_photos.npy', photos)\n",
    "np.save('./Processed_Dataset/Anteaters_vs_Capibara_labels.npy', labels)"
   ]
  },
  {
   "attachments": {},
   "cell_type": "markdown",
   "metadata": {},
   "source": [
    "### loading the dataset to see what it looks like."
   ]
  },
  {
   "cell_type": "code",
   "execution_count": 15,
   "metadata": {},
   "outputs": [
    {
     "name": "stdout",
     "output_type": "stream",
     "text": [
      "(266, 200, 200, 3) (266,)\n"
     ]
    }
   ],
   "source": [
    "# Load the saved numpy array\n",
    "loaded_photos = np.load('./Processed_Dataset/Anteaters_vs_Capibara_photos.npy')\n",
    "loaded_labels = np.load('./Processed_Dataset/Anteaters_vs_Capibara_labels.npy')\n",
    "\n",
    "# Print the shape of loaded numpy array\n",
    "print(photos.shape, labels.shape)"
   ]
  },
  {
   "cell_type": "code",
   "execution_count": 18,
   "metadata": {},
   "outputs": [
    {
     "name": "stdout",
     "output_type": "stream",
     "text": [
      "(200, 200, 3)\n"
     ]
    }
   ],
   "source": [
    "print(loaded_photos[0].shape)"
   ]
  }
 ],
 "metadata": {
  "kernelspec": {
   "display_name": "Python 3",
   "language": "python",
   "name": "python3"
  },
  "language_info": {
   "codemirror_mode": {
    "name": "ipython",
    "version": 3
   },
   "file_extension": ".py",
   "mimetype": "text/x-python",
   "name": "python",
   "nbconvert_exporter": "python",
   "pygments_lexer": "ipython3",
   "version": "3.11.1"
  },
  "orig_nbformat": 4
 },
 "nbformat": 4,
 "nbformat_minor": 2
}
