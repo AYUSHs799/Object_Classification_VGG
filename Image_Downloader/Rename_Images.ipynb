{
 "cells": [
  {
   "cell_type": "code",
   "execution_count": 9,
   "metadata": {},
   "outputs": [],
   "source": [
    "# importing os module\n",
    "import os"
   ]
  },
  {
   "cell_type": "code",
   "execution_count": 10,
   "metadata": {},
   "outputs": [],
   "source": [
    "# Changing the Image names in Anteater folder\n",
    "folder = \"./anteater_images\"\n",
    "\n",
    "# Toggling through all the files in the folder\n",
    "for count, filename in enumerate(os.listdir(folder)):\n",
    "\n",
    "    # Creating the new name for the file\n",
    "    dst = f\"Anteater {str(count)}.jpg\"\n",
    "\n",
    "    # Creating the path for the file\n",
    "    src =f\"{folder}/{filename}\"  \n",
    "\n",
    "    # Creating the path for the new file\n",
    "    dst =f\"{folder}/{dst}\"\n",
    "        \n",
    "    # rename() function will rename all the files\n",
    "    os.rename(src, dst)"
   ]
  },
  {
   "cell_type": "code",
   "execution_count": 13,
   "metadata": {},
   "outputs": [],
   "source": [
    "# Changing the Image names in Capibara folder\n",
    "folder = \"./capibara_images\"\n",
    "\n",
    "# Toggling through all the files in the folder\n",
    "for count, filename in enumerate(os.listdir(folder)):\n",
    "\n",
    "    # Creating the new name for the file\n",
    "    dst = f\"Capibara {str(count)}.jpg\"\n",
    "\n",
    "    # Creating the path for the file\n",
    "    src =f\"{folder}/{filename}\"  \n",
    "\n",
    "    # Creating the path for the new file\n",
    "    dst =f\"{folder}/{dst}\"\n",
    "        \n",
    "    # rename() function will rename all the files\n",
    "    os.rename(src, dst)"
   ]
  }
 ],
 "metadata": {
  "kernelspec": {
   "display_name": "Python 3",
   "language": "python",
   "name": "python3"
  },
  "language_info": {
   "codemirror_mode": {
    "name": "ipython",
    "version": 3
   },
   "file_extension": ".py",
   "mimetype": "text/x-python",
   "name": "python",
   "nbconvert_exporter": "python",
   "pygments_lexer": "ipython3",
   "version": "3.11.1"
  },
  "orig_nbformat": 4
 },
 "nbformat": 4,
 "nbformat_minor": 2
}
